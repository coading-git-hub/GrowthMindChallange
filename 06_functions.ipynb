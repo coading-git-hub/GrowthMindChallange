{
  "nbformat": 4,
  "nbformat_minor": 0,
  "metadata": {
    "colab": {
      "provenance": [],
      "authorship_tag": "ABX9TyNhFCaGuoXX0fl3VPoWjx9F",
      "include_colab_link": true
    },
    "kernelspec": {
      "name": "python3",
      "display_name": "Python 3"
    },
    "language_info": {
      "name": "python"
    }
  },
  "cells": [
    {
      "cell_type": "markdown",
      "metadata": {
        "id": "view-in-github",
        "colab_type": "text"
      },
      "source": [
        "<a href=\"https://colab.research.google.com/github/coading-git-hub/GrowthMindChallange/blob/master/06_functions.ipynb\" target=\"_parent\"><img src=\"https://colab.research.google.com/assets/colab-badge.svg\" alt=\"Open In Colab\"/></a>"
      ]
    },
    {
      "cell_type": "code",
      "execution_count": null,
      "metadata": {
        "colab": {
          "base_uri": "https://localhost:8080/"
        },
        "id": "snTDebohIwQ8",
        "outputId": "6018ce8d-1303-4653-c2c4-2dd1c6f9714e"
      },
      "outputs": [
        {
          "output_type": "stream",
          "name": "stdout",
          "text": [
            "avg_1: 5.0\n",
            "avg_2: 9.0\n",
            "final: 7.0\n"
          ]
        }
      ],
      "source": [
        "from typing import Union\n",
        "\n",
        "def average(a: Union[int, float], b: Union[int, float]) -> float:\n",
        "\n",
        "\n",
        "    if not isinstance(a, (int, float)) or not isinstance(b, (int, float)):\n",
        "        raise ValueError(\"Both inputs must be numbers (int or float).\")\n",
        "\n",
        "    return (a + b) / 2\n",
        "\n",
        "def main():\n",
        "    avg_1 = average(0, 10)\n",
        "    avg_2 = average(8, 10)\n",
        "\n",
        "    final = average(avg_1, avg_2)\n",
        "\n",
        "    print(f\"avg_1: {avg_1}\")\n",
        "    print(f\"avg_2: {avg_2}\")\n",
        "    print(f\"final: {final}\")\n",
        "\n",
        "\n",
        "if __name__ == '__main__':\n",
        "    main()\n"
      ]
    },
    {
      "cell_type": "code",
      "source": [
        "print(\"01_chaotic_counting\")\n",
        "\n",
        "import random\n",
        "\n",
        "DONE_LIKELIHOOD = 0.2\n",
        "\n",
        "def done() -> bool:\n",
        "\n",
        "    return random.random() < DONE_LIKELIHOOD\n",
        "\n",
        "def chaotic_counting():\n",
        "\n",
        "    for i in range(1, 11):\n",
        "        if done():\n",
        "            return\n",
        "\n",
        "        print(i)\n",
        "\n",
        "def main():\n",
        "    print(\"I'm going to count until 10 or until I feel like stopping, whichever comes first.\")\n",
        "    chaotic_counting()\n",
        "    print(\"I'm done.\")\n",
        "\n",
        "\n",
        "if __name__ == '__main__':\n",
        "    main()\n"
      ],
      "metadata": {
        "colab": {
          "base_uri": "https://localhost:8080/"
        },
        "id": "g9s19_SHMAYC",
        "outputId": "b42a2ea5-c26a-468b-bffa-5c3e0246744e"
      },
      "execution_count": null,
      "outputs": [
        {
          "output_type": "stream",
          "name": "stdout",
          "text": [
            "01_chaotic_counting\n",
            "I'm going to count until 10 or until I feel like stopping, whichever comes first.\n",
            "1\n",
            "2\n",
            "3\n",
            "4\n",
            "5\n",
            "6\n",
            "I'm done.\n"
          ]
        }
      ]
    },
    {
      "cell_type": "code",
      "source": [
        "print(\"02_count_even\")\n",
        "\n",
        "def count_even():\n",
        "\n",
        "    numbers = []\n",
        "\n",
        "\n",
        "    while True:\n",
        "        user_input = input(\"Enter an integer or press enter to stop: \")\n",
        "        if user_input == \"\":\n",
        "            break\n",
        "        if user_input.isdigit() or (user_input[0] == '-' and user_input[1:].isdigit()):\n",
        "            numbers.append(int(user_input))\n",
        "\n",
        "\n",
        "    even_count = sum(1 for num in numbers if num % 2 == 0)\n",
        "\n",
        "    print(f\"Total number of even numbers: {even_count}\")\n",
        "\n",
        "def main():\n",
        "    count_even()\n",
        "\n",
        "\n",
        "if __name__ == '__main__':\n",
        "    main()\n"
      ],
      "metadata": {
        "colab": {
          "base_uri": "https://localhost:8080/"
        },
        "id": "xXA2OAnpNQc6",
        "outputId": "b38ba7d4-0a70-4073-d197-8fa90f36da80"
      },
      "execution_count": null,
      "outputs": [
        {
          "output_type": "stream",
          "name": "stdout",
          "text": [
            "02_count_even\n",
            "Enter an integer or press enter to stop: 3\n",
            "Enter an integer or press enter to stop: 6\n",
            "Enter an integer or press enter to stop: 9\n",
            "Enter an integer or press enter to stop: 7\n",
            "Enter an integer or press enter to stop: 5\n",
            "Enter an integer or press enter to stop: \n",
            "Total number of even numbers: 1\n"
          ]
        }
      ]
    },
    {
      "cell_type": "code",
      "source": [
        "def double(num):\n",
        "\n",
        "    return num * 2\n",
        "\n",
        "def main():\n",
        "    user_input = input(\"Enter a number: \")\n",
        "\n",
        "\n",
        "    num = (float, int)[\".\" not in user_input](user_input)\n",
        "\n",
        "    print(f\"Double that is {double(num)}\")\n",
        "\n",
        "\n",
        "__name__ == '__main__' and main()\n"
      ],
      "metadata": {
        "colab": {
          "base_uri": "https://localhost:8080/"
        },
        "id": "81lEPEInPQZN",
        "outputId": "f2488edf-7a45-430a-a86a-be21fa454c5e"
      },
      "execution_count": null,
      "outputs": [
        {
          "output_type": "stream",
          "name": "stdout",
          "text": [
            "Enter a number: 7\n",
            "Double that is 14\n"
          ]
        }
      ]
    },
    {
      "cell_type": "code",
      "source": [
        "print(\"05_get_name\")\n",
        "\n",
        "def get_name():\n",
        "  return \"Kiran\"\n",
        "\n",
        "def main():\n",
        "  name:str = str(get_name())\n",
        "  print(f'Hello {name} how are you? 🎉')\n",
        "\n",
        "if __name__ == '__main__':\n",
        "  main()\n"
      ],
      "metadata": {
        "id": "_GkOmzoEQjTE",
        "colab": {
          "base_uri": "https://localhost:8080/"
        },
        "outputId": "c6903d02-5c5e-4460-cc98-cdb99e51dc9f"
      },
      "execution_count": 3,
      "outputs": [
        {
          "output_type": "stream",
          "name": "stdout",
          "text": [
            "05_get_name\n",
            "Hello Kiran how are you? 🎉\n"
          ]
        }
      ]
    },
    {
      "cell_type": "code",
      "source": [
        "print(\"06_is_odd\")\n",
        "\n",
        "def main():\n",
        "    for i in range(11 , 20):\n",
        "        if is_odd(i):\n",
        "            print(f\"{i} is an odd number\")\n",
        "        else:\n",
        "            print(f\"{i} is an even number\")\n",
        "\n",
        "def is_odd(value: int):\n",
        "    reminder = value % 2\n",
        "    return reminder != 0\n",
        "\n",
        "if __name__ == \"__main__\":\n",
        "    main()\n"
      ],
      "metadata": {
        "colab": {
          "base_uri": "https://localhost:8080/"
        },
        "id": "iH6WWO8V4IFB",
        "outputId": "21a86c76-7f33-4c5e-d77a-e535b6e1a187"
      },
      "execution_count": 18,
      "outputs": [
        {
          "output_type": "stream",
          "name": "stdout",
          "text": [
            "06_is_odd\n",
            "11 is an odd number\n",
            "12 is an even number\n",
            "13 is an odd number\n",
            "14 is an even number\n",
            "15 is an odd number\n",
            "16 is an even number\n",
            "17 is an odd number\n",
            "18 is an even number\n",
            "19 is an odd number\n"
          ]
        }
      ]
    },
    {
      "cell_type": "code",
      "source": [
        "def print_divisor(value: int):\n",
        "    print(\"Divisors of\", value, \":\")\n",
        "    for i in range(1, value + 1):\n",
        "        if value % i == 0:\n",
        "            print(i)\n",
        "\n",
        "def main():\n",
        "    num = int(input(\"Enter a number: \"))\n",
        "    print_divisor(num)\n",
        "\n",
        "if __name__ == \"__main__\":\n",
        "    main()\n"
      ],
      "metadata": {
        "colab": {
          "base_uri": "https://localhost:8080/"
        },
        "id": "r6Nz1zoOFEmI",
        "outputId": "f5009f7d-a552-45c8-810a-92b4fe6e2d7d"
      },
      "execution_count": 10,
      "outputs": [
        {
          "output_type": "stream",
          "name": "stdout",
          "text": [
            "Enter a number: 34\n",
            "Divisors of 34 :\n",
            "1\n",
            "2\n",
            "17\n",
            "34\n"
          ]
        }
      ]
    },
    {
      "cell_type": "code",
      "source": [
        "print(\"08_print_multiple\")\n",
        "\n",
        "def print_multiple(message:str, value: int):\n",
        "  for i in range(value):\n",
        "    print(message)\n",
        "\n",
        "def main():\n",
        "  message = input(\"Enter a message: \")\n",
        "  repeat = int(input(\"Enter a number of times to repeat your message: \"))\n",
        "  print_multiple(message, repeat)\n",
        "\n",
        "if __name__ == \"__main__\":\n",
        "  main()\n",
        "\n",
        "\n"
      ],
      "metadata": {
        "colab": {
          "base_uri": "https://localhost:8080/"
        },
        "id": "yIVmBNy9IlM6",
        "outputId": "a18bc9bc-c1a0-48c8-924c-0f1552f46c2d"
      },
      "execution_count": 12,
      "outputs": [
        {
          "output_type": "stream",
          "name": "stdout",
          "text": [
            "08_print_multiple\n",
            "Enter a message: hello\n",
            "Enter a number of times to repeat your message: 5\n",
            "hello\n",
            "hello\n",
            "hello\n",
            "hello\n",
            "hello\n"
          ]
        }
      ]
    },
    {
      "cell_type": "code",
      "source": [
        "print(\"09_sentence_generator\")\n",
        "\n",
        "def make_sentence(word: str, part_of_speech: int):\n",
        "\n",
        "    if part_of_speech == 0:\n",
        "        print(f\"I am excited to add this {word} to my vast collection of them!\")\n",
        "    elif part_of_speech == 1:\n",
        "        print(f\"It's so nice outside today it makes me want to {word}!\")\n",
        "    elif part_of_speech == 2:\n",
        "        print(f\"Looking out my window, the sky is big and {word}!\")\n",
        "    else:\n",
        "        print(\"Part of speech must be 0 (noun), 1 (verb), or 2 (adjective)! Can't make a sentence.\")\n",
        "\n",
        "def main():\n",
        "    word = input(\"Please type a noun, verb, or adjective: \")\n",
        "    print(\"Is this a noun, verb, or adjective?\")\n",
        "\n",
        "    try:\n",
        "        part_of_speech = int(input(\"Type 0 for noun, 1 for verb, 2 for adjective: \"))\n",
        "        make_sentence(word, part_of_speech)\n",
        "    except ValueError:\n",
        "        print(\"Invalid input! Please enter a number (0, 1, or 2).\")\n",
        "\n",
        "if __name__ == \"__main__\":\n",
        "    main()\n"
      ],
      "metadata": {
        "colab": {
          "base_uri": "https://localhost:8080/"
        },
        "id": "cztTyPzmK-yj",
        "outputId": "885bf8bd-a24b-4de1-f327-8c3b0efd8f1f"
      },
      "execution_count": 14,
      "outputs": [
        {
          "output_type": "stream",
          "name": "stdout",
          "text": [
            "09_sentence_generator\n",
            "Please type a noun, verb, or adjective: tree\n",
            "Is this a noun, verb, or adjective?\n",
            "Type 0 for noun, 1 for verb, 2 for adjective: 0\n",
            "I am excited to add this tree to my vast collection of them!\n"
          ]
        }
      ]
    },
    {
      "cell_type": "code",
      "source": [
        "print(\"10_print_ones_digit\")\n",
        "\n",
        "def print_ones_digit(num : int):\n",
        "    ones_digit =num % 10\n",
        "    print(f\"The ones digit is {ones_digit}\")\n",
        "\n",
        "def main():\n",
        "  num:int = int(input(\"Enter a number: \"))\n",
        "  print_ones_digit(num)\n",
        "\n",
        "if __name__ == \"__main__\":\n",
        "  main()"
      ],
      "metadata": {
        "colab": {
          "base_uri": "https://localhost:8080/"
        },
        "id": "wpBPoVpjPVfX",
        "outputId": "5b9dc98a-3c66-4838-93c9-84fbe777f4cc"
      },
      "execution_count": 17,
      "outputs": [
        {
          "output_type": "stream",
          "name": "stdout",
          "text": [
            "10_print_ones_digit\n",
            "Enter a number: 78\n",
            "The ones digit is 8\n"
          ]
        }
      ]
    }
  ]
}