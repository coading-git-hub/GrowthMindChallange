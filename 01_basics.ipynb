{
  "nbformat": 4,
  "nbformat_minor": 0,
  "metadata": {
    "colab": {
      "provenance": [],
      "authorship_tag": "ABX9TyPR8ds/h1BXXa40oGmFmBtQ",
      "include_colab_link": true
    },
    "kernelspec": {
      "name": "python3",
      "display_name": "Python 3"
    },
    "language_info": {
      "name": "python"
    }
  },
  "cells": [
    {
      "cell_type": "markdown",
      "metadata": {
        "id": "view-in-github",
        "colab_type": "text"
      },
      "source": [
        "<a href=\"https://colab.research.google.com/github/coading-git-hub/GrowthMindChallange/blob/master/01_basics.ipynb\" target=\"_parent\"><img src=\"https://colab.research.google.com/assets/colab-badge.svg\" alt=\"Open In Colab\"/></a>"
      ]
    },
    {
      "cell_type": "code",
      "execution_count": 6,
      "metadata": {
        "colab": {
          "base_uri": "https://localhost:8080/"
        },
        "id": "5HerK9vCjVRc",
        "outputId": "5c3e34ca-a1b1-4c0b-dbd5-cf65be0f9042"
      },
      "outputs": [
        {
          "output_type": "stream",
          "name": "stdout",
          "text": [
            "What do you want? joke\n",
            "Here is a joke for you!\n",
            "Why was the JavaScript developer sad? Because he didn't 'null' his problems.\n"
          ]
        }
      ],
      "source": [
        "print(\"00_joke_bot\")\n",
        "import random\n",
        "\n",
        "\n",
        "PROMPT = \"What do you want? \"\n",
        "SORRY = \"Sorry, I only tell jokes.\"\n",
        "\n",
        "\n",
        "JOKES = [\n",
        "    \"Why don't programmers like nature? It has too many bugs!\",\n",
        "    \"Why do Java developers wear glasses? Because they don't C#!\",\n",
        "    \"A SQL query walks into a bar, walks up to two tables, and asks: 'Can I join you?'\",\n",
        "    \"Why was the JavaScript developer sad? Because he didn't 'null' his problems.\",\n",
        "    \"Why did the computer keep freezing? Because it left its Windows open!\"\n",
        "]\n",
        "\n",
        "def joke_bot():\n",
        "\n",
        "    user_input = input(PROMPT).strip().lower()\n",
        "    if user_input == \"joke\":\n",
        "        print(\"Here is a joke for you!\")\n",
        "        print(random.choice(JOKES))\n",
        "    else:\n",
        "        print(SORRY)\n",
        "\n",
        "def main():\n",
        "\n",
        "    joke_bot()\n",
        "\n",
        "\n",
        "if __name__ == '__main__':\n",
        "    main()\n"
      ]
    },
    {
      "cell_type": "code",
      "source": [
        "print(\"01_double_it\")\n",
        "\n",
        "def main():\n",
        "  curr_value:int = int(input(\"Enter an integer: \"))\n",
        "  while curr_value < 100 :\n",
        "    curr_value *= 2\n",
        "    print(curr_value)\n",
        "\n",
        "if __name__ == \"__main__\":\n",
        "  main()\n",
        "\n",
        "\n"
      ],
      "metadata": {
        "colab": {
          "base_uri": "https://localhost:8080/"
        },
        "id": "I8ETChRtoL1R",
        "outputId": "40f92aa1-3653-4b1e-c7b1-d5d940da6625"
      },
      "execution_count": 9,
      "outputs": [
        {
          "output_type": "stream",
          "name": "stdout",
          "text": [
            "01_double_it\n",
            "Enter an integer: 23\n",
            "46\n",
            "92\n",
            "184\n"
          ]
        }
      ]
    },
    {
      "cell_type": "code",
      "source": [
        "print(\"02_liftoff\")\n",
        "def main():\n",
        "   for i in range(10,0,-1):\n",
        "        print(i, end=\" \")\n",
        "\n",
        "   print(\"liftoff\")\n",
        "\n",
        "if __name__ == \"__main__\":\n",
        "  main()\n"
      ],
      "metadata": {
        "colab": {
          "base_uri": "https://localhost:8080/"
        },
        "id": "enJO5dYfqQTs",
        "outputId": "26cd0f08-1100-4b85-fff3-6631fb1ded97"
      },
      "execution_count": 13,
      "outputs": [
        {
          "output_type": "stream",
          "name": "stdout",
          "text": [
            "02_liftoff\n",
            "10 9 8 7 6 5 4 3 2 1 liftoff\n"
          ]
        }
      ]
    },
    {
      "cell_type": "code",
      "source": [
        "print(\"03_guess_my_number\")\n",
        "\n",
        "import random\n",
        "\n",
        "\n",
        "def main():\n",
        "    secret_number = random.randint(0, 99)\n",
        "    print(\"I am thinking of a number between 0 and 99...\")\n",
        "\n",
        "    while True:\n",
        "        try:\n",
        "            guess = int(input(\"Enter a guess: \"))\n",
        "\n",
        "            if guess < secret_number:\n",
        "                print(\"Your guess is too low\")\n",
        "            elif guess > secret_number:\n",
        "                print(\"Your guess is too high\")\n",
        "            else:\n",
        "                print(f\"Congrats! The number was: {secret_number}\")\n",
        "                break\n",
        "        except ValueError:\n",
        "            print(\"Please enter a valid number!\")\n",
        "\n",
        "\n",
        "if __name__ == '__main__':\n",
        "    main()\n",
        "\n"
      ],
      "metadata": {
        "colab": {
          "base_uri": "https://localhost:8080/"
        },
        "id": "2en0-p1PsDgb",
        "outputId": "7d1e3c22-26bd-47f9-9216-8575ad31e487"
      },
      "execution_count": 14,
      "outputs": [
        {
          "output_type": "stream",
          "name": "stdout",
          "text": [
            "03_guess_my_number\n",
            "I am thinking of a number between 0 and 99...\n",
            "Enter a guess: 42\n",
            "Your guess is too high\n",
            "Enter a guess: 32\n",
            "Your guess is too high\n",
            "Enter a guess: 12\n",
            "Your guess is too high\n",
            "Enter a guess: 2\n",
            "Your guess is too low\n",
            "Enter a guess: 10\n",
            "Your guess is too high\n",
            "Enter a guess: 5\n",
            "Your guess is too low\n",
            "Enter a guess: 6\n",
            "Your guess is too low\n",
            "Enter a guess: 7\n",
            "Your guess is too low\n",
            "Enter a guess: 8\n",
            "Congrats! The number was: 8\n"
          ]
        }
      ]
    },
    {
      "cell_type": "code",
      "source": [
        "print(\"04_random_numbers\")\n",
        "\n",
        "import random\n",
        "N_NUMBERS: int = 10\n",
        "MIN_VALUE: int = 1\n",
        "MAX_VALUE: int = 100\n",
        "\n",
        "def main():\n",
        "  random_numbers = [random.randint(MIN_VALUE, MAX_VALUE) for _ in range(N_NUMBERS)]\n",
        "  print(random_numbers)\n",
        "\n",
        "if __name__ == \"__main__\":\n",
        "  main()\n",
        "\n",
        ""
      ],
      "metadata": {
        "colab": {
          "base_uri": "https://localhost:8080/"
        },
        "id": "CCn4w9PVuEPY",
        "outputId": "5971d7ae-bfcf-4a63-f0ae-3c49b1bd080d"
      },
      "execution_count": 15,
      "outputs": [
        {
          "output_type": "stream",
          "name": "stdout",
          "text": [
            "04_random_numbers\n",
            "[93, 65, 61, 97, 64, 68, 80, 88, 45, 15]\n"
          ]
        }
      ]
    }
  ]
}