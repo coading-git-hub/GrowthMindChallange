{
  "nbformat": 4,
  "nbformat_minor": 0,
  "metadata": {
    "colab": {
      "provenance": [],
      "authorship_tag": "ABX9TyPNbFct1ZUMVL1gnIGZG1TS",
      "include_colab_link": true
    },
    "kernelspec": {
      "name": "python3",
      "display_name": "Python 3"
    },
    "language_info": {
      "name": "python"
    }
  },
  "cells": [
    {
      "cell_type": "markdown",
      "metadata": {
        "id": "view-in-github",
        "colab_type": "text"
      },
      "source": [
        "<a href=\"https://colab.research.google.com/github/coading-git-hub/GrowthMindChallange/blob/master/02_lists.ipynb\" target=\"_parent\"><img src=\"https://colab.research.google.com/assets/colab-badge.svg\" alt=\"Open In Colab\"/></a>"
      ]
    },
    {
      "cell_type": "code",
      "execution_count": null,
      "metadata": {
        "colab": {
          "base_uri": "https://localhost:8080/"
        },
        "id": "t7SAFKVcyFaS",
        "outputId": "9f622f71-7e45-4dab-b76d-cdb54a0f820c"
      },
      "outputs": [
        {
          "output_type": "stream",
          "name": "stdout",
          "text": [
            "01_add_many_number\n",
            "15\n"
          ]
        }
      ],
      "source": [
        "print(\"01_add_many_number\")\n",
        "\n",
        "def add_number(numbers)->int:\n",
        "  num:int = 0\n",
        "  for i in numbers:\n",
        "    num += i\n",
        "  return num\n",
        "\n",
        "def main():\n",
        "  numbers:list[int] =[1,2,3,4,5]\n",
        "  sum = add_number(numbers)\n",
        "  print(sum)\n",
        "\n",
        "if __name__ == \"__main__\":\n",
        "  main()\n",
        "\n"
      ]
    },
    {
      "cell_type": "code",
      "source": [
        "print(\"02_double_list\")\n",
        "\n",
        "def main():\n",
        "  numbers:list[int] = [1,2,3,4,5]\n",
        "  for i in range(len(numbers)):\n",
        "    index = numbers[i]\n",
        "    numbers[i] = index * 2\n",
        "  print(numbers)\n",
        "\n",
        "if __name__ == \"__main__\":\n",
        "  main()\n",
        "\n",
        "\n"
      ],
      "metadata": {
        "colab": {
          "base_uri": "https://localhost:8080/"
        },
        "id": "4BBAjI_X0svp",
        "outputId": "f91c6a92-1cbd-4f82-c627-c16c8c2a6749"
      },
      "execution_count": null,
      "outputs": [
        {
          "output_type": "stream",
          "name": "stdout",
          "text": [
            "02_double_list\n",
            "[2, 4, 6, 8, 10]\n"
          ]
        }
      ]
    },
    {
      "cell_type": "code",
      "source": [
        "print(\"04_flowing_with_data_structures\")\n",
        "\n",
        "def add_three_copies(list,data):\n",
        "  for i in range(3):\n",
        "    list.append(data)\n",
        "def main():\n",
        "  messaage = input(\"Enter a message to copy. \")\n",
        "  list = []\n",
        "  print(\"Before list : \" , list)\n",
        "  add_three_copies(list,messaage)\n",
        "  print(\"After list: \" ,list)\n",
        "\n",
        "if __name__ == \"__main__\":\n",
        "  main()\n",
        "\n"
      ],
      "metadata": {
        "colab": {
          "base_uri": "https://localhost:8080/"
        },
        "id": "C-4k-mj_2cEi",
        "outputId": "832236bc-27ce-4270-bacd-b9517173e83f"
      },
      "execution_count": null,
      "outputs": [
        {
          "output_type": "stream",
          "name": "stdout",
          "text": [
            "04_flowing_with_data_structures\n",
            "Enter a message to copy. hello Karachi\n",
            "Before list :  []\n",
            "After list:  ['hello Karachi', 'hello Karachi', 'hello Karachi']\n"
          ]
        }
      ]
    },
    {
      "cell_type": "code",
      "source": [
        "print(\"05_get_first_element\")\n",
        "\n",
        "def get_first_element(list):\n",
        " print(list[0])\n",
        "\n",
        "def get_list():\n",
        "  list = []\n",
        "  elem:str = input(\"Enter an element to add to the list. \")\n",
        "  while elem != \"\":\n",
        "    list.append(elem)\n",
        "    elem = input(\"Enter an element to add to the list. \")\n",
        "  return list\n",
        "\n",
        "def main():\n",
        "  list = get_list()\n",
        "  get_first_element(list)\n",
        "\n",
        "if __name__ == \"__main__\":\n",
        "  main()\n"
      ],
      "metadata": {
        "colab": {
          "base_uri": "https://localhost:8080/"
        },
        "id": "vkz2-qUJ4FUw",
        "outputId": "8beb206f-3eea-4ca6-ad99-1d7cd254298e"
      },
      "execution_count": null,
      "outputs": [
        {
          "output_type": "stream",
          "name": "stdout",
          "text": [
            "05_get_first_element\n",
            "Enter an element to add to the list. a\n",
            "Enter an element to add to the list. r\n",
            "Enter an element to add to the list. m\n",
            "Enter an element to add to the list. n\n",
            "Enter an element to add to the list. \n",
            "a\n"
          ]
        }
      ]
    },
    {
      "cell_type": "code",
      "source": [
        "print(\"06_get_last_element\")\n",
        "\n",
        "def get_last_element(list):\n",
        "  print(list[-1])\n",
        "\n",
        "def get_list():\n",
        "  list = []\n",
        "  elem:str = input(\"Enter an element to add to the list. \")\n",
        "  while elem != \"\":\n",
        "    list.append(elem)\n",
        "    elem = input(\"Enter an element to add to the list. \")\n",
        "  return list\n",
        "\n",
        "def main():\n",
        "  list = get_list()\n",
        "  get_last_element(list)\n",
        "\n",
        "if __name__ == \"__main__\":\n",
        "  main()\n",
        "\n",
        "\n"
      ],
      "metadata": {
        "colab": {
          "base_uri": "https://localhost:8080/"
        },
        "id": "KLhAOfk66gUz",
        "outputId": "7a312e16-cb7f-4c27-9d54-fed47184b7f7"
      },
      "execution_count": null,
      "outputs": [
        {
          "output_type": "stream",
          "name": "stdout",
          "text": [
            "06_get_last_element\n",
            "Enter an element to add to the list. r\n",
            "Enter an element to add to the list. e\n",
            "Enter an element to add to the list. f\n",
            "Enter an element to add to the list. g\n",
            "Enter an element to add to the list. \n",
            "g\n"
          ]
        }
      ]
    },
    {
      "cell_type": "code",
      "source": [
        "print(\"07_get_list\")\n",
        "\n",
        "def main():\n",
        "  list =[]\n",
        "  val = input(\"Enter a value to add to the list. \")\n",
        "  while val:\n",
        "    list.append(val)\n",
        "    val =input(\"Enter a value to add to the list. \")\n",
        "  print(\"Here's the list: \" ,list)\n",
        "\n",
        "if __name__ == \"__main__\":\n",
        "  main()"
      ],
      "metadata": {
        "colab": {
          "base_uri": "https://localhost:8080/"
        },
        "id": "7VQ0l0-Z7vwg",
        "outputId": "50241d87-a85f-4d48-dbfe-a0c2e64582cc"
      },
      "execution_count": null,
      "outputs": [
        {
          "output_type": "stream",
          "name": "stdout",
          "text": [
            "07_get_list\n",
            "Enter a value to add to the list. ali\n",
            "Enter a value to add to the list. ahmed\n",
            "Enter a value to add to the list. nasir\n",
            "Enter a value to add to the list. ana\n",
            "Enter a value to add to the list. kiran\n",
            "Enter a value to add to the list. \n",
            "Here's the list:  ['ali', 'ahmed', 'nasir', 'ana', 'kiran']\n"
          ]
        }
      ]
    },
    {
      "cell_type": "code",
      "source": [
        "print(\"08_shorten\")\n",
        "\n",
        "MAX_LENGTH:int = 3\n",
        "def shorten(list):\n",
        "  while len(list) >= MAX_LENGTH:\n",
        "    last_element = list.pop()\n",
        "    print(last_element)\n",
        "\n",
        "def get_list():\n",
        "  list =[]\n",
        "  element = input(\"Enter an element to add to the list: \")\n",
        "  while element != \"\":\n",
        "    list.append(element)\n",
        "    element = input(\"Enter an element to add to the list: \")\n",
        "  return list\n",
        "\n",
        "def main():\n",
        "  list = get_list()\n",
        "  shorten(list)\n",
        "\n",
        "if __name__ == \"__main__\":\n",
        "  main()\n"
      ],
      "metadata": {
        "colab": {
          "base_uri": "https://localhost:8080/"
        },
        "id": "1hGjWyLm9G9L",
        "outputId": "554649e2-e4c1-4846-ad7e-9d976a6d78ac"
      },
      "execution_count": null,
      "outputs": [
        {
          "output_type": "stream",
          "name": "stdout",
          "text": [
            "08_shorten\n",
            "Enter an element to add to the list: t\n",
            "Enter an element to add to the list: j\n",
            "Enter an element to add to the list: k\n",
            "Enter an element to add to the list: m\n",
            "Enter an element to add to the list: n\n",
            "Enter an element to add to the list: g\n",
            "Enter an element to add to the list: \n",
            "g\n",
            "n\n",
            "m\n",
            "k\n"
          ]
        }
      ]
    }
  ]
}