{
  "nbformat": 4,
  "nbformat_minor": 0,
  "metadata": {
    "colab": {
      "provenance": [],
      "authorship_tag": "ABX9TyMOc8mVehZfkT/vXaVO656M",
      "include_colab_link": true
    },
    "kernelspec": {
      "name": "python3",
      "display_name": "Python 3"
    },
    "language_info": {
      "name": "python"
    }
  },
  "cells": [
    {
      "cell_type": "markdown",
      "metadata": {
        "id": "view-in-github",
        "colab_type": "text"
      },
      "source": [
        "<a href=\"https://colab.research.google.com/github/coading-git-hub/GrowthMindChallange/blob/master/07_information_flow.ipynb\" target=\"_parent\"><img src=\"https://colab.research.google.com/assets/colab-badge.svg\" alt=\"Open In Colab\"/></a>"
      ]
    },
    {
      "cell_type": "code",
      "execution_count": 5,
      "metadata": {
        "colab": {
          "base_uri": "https://localhost:8080/"
        },
        "id": "H4633du0Su3I",
        "outputId": "4b4e5822-149b-4fb7-aa9d-f690ef022ee5"
      },
      "outputs": [
        {
          "output_type": "stream",
          "name": "stdout",
          "text": [
            "00_choosing_returns\n",
            "How old is this person? 12\n",
            "The person is an adult: False\n"
          ]
        }
      ],
      "source": [
        "print(\"00_choosing_returns\")\n",
        "\n",
        "ADULT_AGE: int = 18\n",
        "\n",
        "def is_adult(age: int) -> bool:\n",
        "\n",
        "    return age >= ADULT_AGE\n",
        "\n",
        "def main():\n",
        "    age: int = int(input(\"How old is this person? \"))\n",
        "\n",
        "\n",
        "    print(f\"The person is an adult: {is_adult(age)}\")\n",
        "\n",
        "if __name__ == \"__main__\":\n",
        "    main()\n"
      ]
    },
    {
      "cell_type": "code",
      "source": [
        "print(\"01_greetings\")\n",
        "\n",
        "def main():\n",
        "  name : str = input(\"What is your name? \")\n",
        "  print(greet(name))\n",
        "\n",
        "def greet(name):\n",
        "  return \"Hello \" + name + \"! 🎉\"\n",
        "\n",
        "if __name__ == \"__main__\":\n",
        "   main()"
      ],
      "metadata": {
        "colab": {
          "base_uri": "https://localhost:8080/"
        },
        "id": "CKI_TWvpWRTq",
        "outputId": "a56dad92-533b-460a-da79-89e7795e6b0c"
      },
      "execution_count": 10,
      "outputs": [
        {
          "output_type": "stream",
          "name": "stdout",
          "text": [
            "01_greetings\n",
            "What is your name? kiran\n",
            "Hello kiran! 🎉\n"
          ]
        }
      ]
    },
    {
      "cell_type": "code",
      "source": [
        "print(\"02_in_range\")\n",
        "\n",
        "def in_range(n , low, high):\n",
        "  return low <= n <= high\n",
        "\n",
        "def main():\n",
        "  n = int(input(\"Enter a number:  \"))\n",
        "  low = int(input(\"Enter a lower bound:  \"))\n",
        "  high = int(input(\"Enter a upper bound (greater than lower bound):  \"))\n",
        "  print(f\"Is {n} in range [{low}, {high}]? {in_range(n, low, high)}\")\n",
        "\n",
        "if __name__ == \"__main__\":\n",
        "  main()"
      ],
      "metadata": {
        "colab": {
          "base_uri": "https://localhost:8080/"
        },
        "id": "j47HPyHQXsIq",
        "outputId": "108c5e85-1fd8-427f-acc4-c7f1b98fb49e"
      },
      "execution_count": 12,
      "outputs": [
        {
          "output_type": "stream",
          "name": "stdout",
          "text": [
            "02_in_range\n",
            "Enter a number:  23\n",
            "Enter a lower bound:  12\n",
            "Enter a upper bound (greater than lower bound):  42\n",
            "Is 23 in range [12, 42]? True\n"
          ]
        }
      ]
    },
    {
      "cell_type": "code",
      "source": [
        "print(\"03_in_stock\")\n",
        "\n",
        "def num_in_stock(fruit: str) -> int:\n",
        "\n",
        "    inventory = {\n",
        "        \"apple\": 2,\n",
        "        \"durian\": 4,\n",
        "        \"pear\": 1000\n",
        "    }\n",
        "    return inventory.get(fruit.lower(), 0)\n",
        "\n",
        "def main():\n",
        "    fruit = input(\"Enter a fruit: \").strip().lower()\n",
        "\n",
        "    stock = num_in_stock(fruit)\n",
        "\n",
        "    if stock == 0:\n",
        "        print(\"This fruit is not in stock.\")\n",
        "    else:\n",
        "        print(\"This fruit is in stock! Here is how many:\")\n",
        "        print(stock)\n",
        "\n",
        "if __name__ == '__main__':\n",
        "    main()\n"
      ],
      "metadata": {
        "colab": {
          "base_uri": "https://localhost:8080/"
        },
        "id": "OKH0RJEQbPUP",
        "outputId": "99fdc140-72eb-4e40-c779-5ada6a4619e3"
      },
      "execution_count": 13,
      "outputs": [
        {
          "output_type": "stream",
          "name": "stdout",
          "text": [
            "03_in_stock\n",
            "Enter a fruit: apple\n",
            "This fruit is in stock! Here is how many:\n",
            "2\n"
          ]
        }
      ]
    },
    {
      "cell_type": "code",
      "source": [
        "print(\"04_multiple_returns\")\n",
        "\n",
        "def get_info():\n",
        "  name :str = input(\"What is your name? \")\n",
        "  last_name : str = input(\"What is your last name? \")\n",
        "  email : str = input(\"What is your email? \")\n",
        "  return name, last_name, email\n",
        "\n",
        "def main():\n",
        "  user_data = get_info()\n",
        "  print(\"This is your recieved data: \" , user_data)\n",
        "\n",
        "if __name__ == \"__main__\":\n",
        "     main()\n",
        ""
      ],
      "metadata": {
        "colab": {
          "base_uri": "https://localhost:8080/"
        },
        "id": "ANbAl3aLdAa2",
        "outputId": "8503be7a-d908-4c14-f3ff-e758b3ba0752"
      },
      "execution_count": 14,
      "outputs": [
        {
          "output_type": "stream",
          "name": "stdout",
          "text": [
            "04_multiple_returns\n",
            "What is your name? kiran\n",
            "What is your last name? Ahmed\n",
            "What is your email? ahmed@gmail.com\n",
            "This is your recieved data:  ('kiran', 'Ahmed', 'ahmed@gmail.com')\n"
          ]
        }
      ]
    },
    {
      "cell_type": "code",
      "source": [
        "print(\"05_subtract_7\")\n",
        "\n",
        "def subtract_seven(num: int) -> int:\n",
        "\n",
        "    return num\n",
        "\n",
        "def main():\n",
        "    num: int = 7\n",
        "    num = subtract_seven(num)\n",
        "    print(\"This should be zero:\", num)\n",
        "\n",
        "\n",
        "if __name__ == '__main__':\n",
        "    main()\n"
      ],
      "metadata": {
        "colab": {
          "base_uri": "https://localhost:8080/"
        },
        "id": "dFiZbDIRef-m",
        "outputId": "44e2d781-055d-4c5b-e59f-67ab2c52ca14"
      },
      "execution_count": 15,
      "outputs": [
        {
          "output_type": "stream",
          "name": "stdout",
          "text": [
            "05_subtract_7\n",
            "This should be zero: 7\n"
          ]
        }
      ]
    }
  ]
}