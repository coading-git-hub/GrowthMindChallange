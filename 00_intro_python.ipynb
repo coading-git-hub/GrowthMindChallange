{
  "nbformat": 4,
  "nbformat_minor": 0,
  "metadata": {
    "colab": {
      "provenance": [],
      "authorship_tag": "ABX9TyNxS0hrCO6xWcEqeaXqYcTj",
      "include_colab_link": true
    },
    "kernelspec": {
      "name": "python3",
      "display_name": "Python 3"
    },
    "language_info": {
      "name": "python"
    }
  },
  "cells": [
    {
      "cell_type": "markdown",
      "metadata": {
        "id": "view-in-github",
        "colab_type": "text"
      },
      "source": [
        "<a href=\"https://colab.research.google.com/github/coading-git-hub/GrowthMindChallange/blob/master/00_intro_python.ipynb\" target=\"_parent\"><img src=\"https://colab.research.google.com/assets/colab-badge.svg\" alt=\"Open In Colab\"/></a>"
      ]
    },
    {
      "cell_type": "code",
      "execution_count": null,
      "metadata": {
        "colab": {
          "base_uri": "https://localhost:8080/"
        },
        "id": "3R88XGBmhJn0",
        "outputId": "df92c1cb-b6f3-4ea6-ef92-40c2f32a2bab"
      },
      "outputs": [
        {
          "output_type": "stream",
          "name": "stdout",
          "text": [
            "01_add_two_numbers\n",
            "This application is for adding two numbers\n",
            "Enter your first number: 34\n",
            "Enter your second number: 56\n",
            "The sum of 34 and 56 is: 90\n"
          ]
        }
      ],
      "source": [
        "print(\"01_add_two_numbers\")\n",
        "\n",
        "def add():\n",
        "    print(\"This application is for adding two numbers\")\n",
        "    first_number = int(input(\"Enter your first number: \"))\n",
        "    second_number = int(input(\"Enter your second number: \"))\n",
        "    total = first_number + second_number  # No need for extra int()\n",
        "\n",
        "    print(f'The sum of {first_number} and {second_number} is: {total}')\n",
        "\n",
        "# Move this outside the function\n",
        "if __name__ == '__main__':\n",
        "    add()\n"
      ]
    },
    {
      "cell_type": "code",
      "source": [
        "print(\"02_agreement_bot\")\n",
        "\n",
        "def bot():\n",
        "    animal = str(input(\"what is your favorite animal?\"))\n",
        "    print(f'My favorite animal is also {animal}')\n",
        "\n",
        "if __name__ == '__main__':\n",
        "       bot()"
      ],
      "metadata": {
        "colab": {
          "base_uri": "https://localhost:8080/"
        },
        "id": "lNDwU5Gnnujl",
        "outputId": "dea1b024-ced6-407d-c794-5b77dea0d154"
      },
      "execution_count": null,
      "outputs": [
        {
          "output_type": "stream",
          "name": "stdout",
          "text": [
            "02_agreement_bot\n",
            "what is your favorite animal?cat\n",
            "My favorite animal is also cat\n"
          ]
        }
      ]
    },
    {
      "cell_type": "code",
      "source": [
        "print(\"03_fahrenheit_to_celsius\")\n",
        "\n",
        "def temp():\n",
        "    print(\"This application for converting from Fahrenheit to Celsius \")\n",
        "    fahrenheit_degree = float(input(\"Enter temperature in Fahrenheit: \"))\n",
        "    celsius_degree = (fahrenheit_degree - 32) * 5.0/9.0\n",
        "    print(f'Temperature: {fahrenheit_degree}F = { celsius_degree}C')\n",
        "\n",
        "if __name__ =='__main__':\n",
        "    temp()"
      ],
      "metadata": {
        "colab": {
          "base_uri": "https://localhost:8080/"
        },
        "id": "-61Ao4eVswRs",
        "outputId": "6e8dd8c6-9f82-4121-edd9-0fc644820164"
      },
      "execution_count": null,
      "outputs": [
        {
          "output_type": "stream",
          "name": "stdout",
          "text": [
            "03_fahrenheit_to_celsius\n",
            "This application for converting from Fahrenheit to Celsius \n",
            "Enter temperature in Fahrenheit:45\n",
            "Temperature: 45.0 = 7.222222222222222\n"
          ]
        }
      ]
    },
    {
      "cell_type": "code",
      "source": [
        "print(\"04_how_old_are_they\")\n",
        "\n",
        "def add_age():\n",
        "  anton : int = 21\n",
        "  beth : int = 6 + anton\n",
        "  chen : int = 20 + beth\n",
        "  drew  : int= chen + anton\n",
        "  ethan : int = chen\n",
        "\n",
        "  print('Anton is: ' + str(anton))\n",
        "  print('Beth is: '  + str(beth))\n",
        "  print('Chen is: ' + str(chen))\n",
        "  print('Drew is: ' + str(drew))\n",
        "  print('Ethan is: ' + str(ethan))\n",
        "\n",
        "if __name__ == '__main__':\n",
        "     add_age()\n"
      ],
      "metadata": {
        "colab": {
          "base_uri": "https://localhost:8080/"
        },
        "id": "pehKmWlIvuwN",
        "outputId": "b11ff0ee-646b-483c-fc3f-46b9fb2a274d"
      },
      "execution_count": null,
      "outputs": [
        {
          "output_type": "stream",
          "name": "stdout",
          "text": [
            "04_how_old_are_they\n",
            "Anton is: 21\n",
            "Beth is: 27\n",
            "Chen is: 47\n",
            "Drew is: 68\n",
            "Ethan is: 47\n"
          ]
        }
      ]
    },
    {
      "cell_type": "code",
      "source": [
        "print(\"05_triangle_perimeter\")\n",
        "\n",
        "def triangle_perameter():\n",
        "  side1:float = float(input(\"Enter the length of side 1? \"))\n",
        "  side2:float = float(input(\"Enter the length of side 2? \"))\n",
        "  side3:float = float(input(\"Enter the length of side 3? \"))\n",
        "\n",
        "  print(\"The parameter of triangle is: \" + str(side1 + side2 + side3 ))\n",
        "\n",
        "if __name__ == '__main__':\n",
        "     triangle_perameter()"
      ],
      "metadata": {
        "colab": {
          "base_uri": "https://localhost:8080/"
        },
        "id": "WjKCdz05z3I5",
        "outputId": "97caddb9-9887-4138-be56-a9f8d5d18bc0"
      },
      "execution_count": null,
      "outputs": [
        {
          "output_type": "stream",
          "name": "stdout",
          "text": [
            "05_triangle_perimeter\n",
            "Enter the length of side 1? 34\n",
            "Enter the length of side 2? 12\n",
            "Enter the length of side 3? 34\n",
            "The parameter of triangle is: 80.0\n"
          ]
        }
      ]
    },
    {
      "cell_type": "code",
      "source": [
        "print(\"06_square_number\")\n",
        "\n",
        "def square_number():\n",
        "  num:int = int(input(\"Enter any number i give you its squre value: \"))\n",
        "  print(\"The value of \" + str(num) + \" square is : \" + str(num ** 2))\n",
        "\n",
        "if __name__ == '__main__':\n",
        "  square_number()\n"
      ],
      "metadata": {
        "colab": {
          "base_uri": "https://localhost:8080/"
        },
        "id": "gZq9MYph2GaH",
        "outputId": "e9b79ab2-d870-4190-b666-164551740fbe"
      },
      "execution_count": null,
      "outputs": [
        {
          "output_type": "stream",
          "name": "stdout",
          "text": [
            "06_square_number\n",
            "Enter any number i give you its squre value: 2\n",
            "The value of 2 square is : 4\n"
          ]
        }
      ]
    }
  ]
}