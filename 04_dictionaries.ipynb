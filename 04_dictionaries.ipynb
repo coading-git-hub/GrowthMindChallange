{
  "nbformat": 4,
  "nbformat_minor": 0,
  "metadata": {
    "colab": {
      "provenance": [],
      "authorship_tag": "ABX9TyMNJihxm9bVXLRctVGx273M",
      "include_colab_link": true
    },
    "kernelspec": {
      "name": "python3",
      "display_name": "Python 3"
    },
    "language_info": {
      "name": "python"
    }
  },
  "cells": [
    {
      "cell_type": "markdown",
      "metadata": {
        "id": "view-in-github",
        "colab_type": "text"
      },
      "source": [
        "<a href=\"https://colab.research.google.com/github/coading-git-hub/GrowthMindChallange/blob/master/04_dictionaries.ipynb\" target=\"_parent\"><img src=\"https://colab.research.google.com/assets/colab-badge.svg\" alt=\"Open In Colab\"/></a>"
      ]
    },
    {
      "cell_type": "code",
      "execution_count": null,
      "metadata": {
        "colab": {
          "base_uri": "https://localhost:8080/"
        },
        "id": "_P2sUaAJWNZH",
        "outputId": "056a6f41-c7dc-4ad0-9524-a43d419d1763"
      },
      "outputs": [
        {
          "output_type": "stream",
          "name": "stdout",
          "text": [
            "00_count_nums\n",
            "Enter your number (or press Enter to stop): 5\n",
            "Enter your number (or press Enter to stop): 7\n",
            "Enter your number (or press Enter to stop): 0\n",
            "Enter your number (or press Enter to stop): 3\n",
            "Enter your number (or press Enter to stop): 9\n",
            "Enter your number (or press Enter to stop): \n",
            "5 appears 1 times.\n",
            "7 appears 1 times.\n",
            "0 appears 1 times.\n",
            "3 appears 1 times.\n",
            "9 appears 1 times.\n"
          ]
        }
      ],
      "source": [
        "print(\"00_count_nums\")\n",
        "\n",
        "def get_number():\n",
        "\n",
        "    user_number = []\n",
        "    while True:\n",
        "        user_input = input(\"Enter your number (or press Enter to stop): \")\n",
        "\n",
        "        if user_input == \"\":\n",
        "            break\n",
        "\n",
        "        num = int(user_input)\n",
        "        user_number.append(num)\n",
        "\n",
        "    return user_number\n",
        "\n",
        "\n",
        "def count(num_list):\n",
        "\n",
        "    num_dict = {}\n",
        "    for num in num_list:\n",
        "        num_dict[num] = num_dict.get(num, 0) + 1\n",
        "\n",
        "    return num_dict\n",
        "\n",
        "\n",
        "def print_counts(num_dict):\n",
        "    \"\"\"\n",
        "    Print the frequency of each number.\n",
        "    \"\"\"\n",
        "    for num, count in num_dict.items():\n",
        "        print(f\"{num} appears {count} times.\")\n",
        "\n",
        "\n",
        "def main():\n",
        "    \"\"\"\n",
        "    Main function to run the program.\n",
        "    \"\"\"\n",
        "    user_number = get_number()\n",
        "    num_dict = count(user_number)\n",
        "    print_counts(num_dict)\n",
        "\n",
        "\n",
        "if __name__ == \"__main__\":\n",
        "    main()\n"
      ]
    },
    {
      "cell_type": "code",
      "source": [
        "print(\"01_phonebook\")\n",
        "\n",
        "def phone_number():\n",
        "\n",
        "  phone_book = {}\n",
        "  while True:\n",
        "     name = input(\"Enter your name: \")\n",
        "     if name == \"\":\n",
        "        break\n",
        "\n",
        "     number = input(\"Enter your phone number: \")\n",
        "\n",
        "     phone_book[name] = number\n",
        "\n",
        "  return phone_book\n",
        "\n",
        "def print_book(phone_book):\n",
        "\n",
        "  for name in phone_book:\n",
        "        print(f\"{name} -> {phone_book[name]}\")\n",
        "\n",
        "\n",
        "def see_number(phone_book):\n",
        "  while True:\n",
        "    name = input(\"Enter name to see: \")\n",
        "\n",
        "    if name == \"\":\n",
        "      break\n",
        "\n",
        "    if name not in phone_book:\n",
        "        print(f'name {name} is not in phonebook!')\n",
        "    else:\n",
        "        print(phone_book[name])\n",
        "\n",
        "def main():\n",
        "  phone_book = phone_number()\n",
        "  print_book(phone_book)\n",
        "  see_number(phone_book)\n",
        "\n",
        "if __name__ == \"__main__\":\n",
        "  main()\n"
      ],
      "metadata": {
        "id": "Mtzf-3RQowRy",
        "colab": {
          "base_uri": "https://localhost:8080/"
        },
        "outputId": "9639e10e-954b-44ec-e501-6618bd18e305"
      },
      "execution_count": 5,
      "outputs": [
        {
          "name": "stdout",
          "output_type": "stream",
          "text": [
            "01_phonebook\n",
            "Enter your name: kiran\n",
            "Enter your phone number: 032466779\n",
            "Enter your name: ahmed\n",
            "Enter your phone number: 04327789\n",
            "Enter your name: \n",
            "kiran -> 032466779\n",
            "ahmed -> 04327789\n",
            "Enter name to see: kiran\n",
            "032466779\n",
            "Enter name to see: \n"
          ]
        }
      ]
    },
    {
      "cell_type": "code",
      "source": [
        "print(\"02_pop_up_shop\")\n",
        "\n",
        "fruit_prices = {  # Define dictionary globally\n",
        "    \"apple\": 5.0,\n",
        "    \"durian\": 20.0,\n",
        "    \"jackfruit\": 15.0,\n",
        "    \"kiwi\": 7.5,\n",
        "    \"rambutan\": 12.0,\n",
        "    \"mango\": 10.5\n",
        "}\n",
        "\n",
        "def calculate_total():\n",
        "    total_cost = 0\n",
        "    for fruit, price in fruit_prices.items():\n",
        "        while True:\n",
        "            try:\n",
        "                quantity = int(input(f\"How many ({fruit}) do you want?: \"))\n",
        "                if quantity < 0:\n",
        "                    print(\"Please enter a valid non-negative number.\")\n",
        "                    continue\n",
        "                total_cost += quantity * price\n",
        "                break\n",
        "            except ValueError:\n",
        "                print(\"Invalid input! Please enter a number.\")\n",
        "\n",
        "    print(f\"\\nYour total is ${total_cost:.2f}\")\n",
        "\n",
        "def main():\n",
        "    calculate_total()\n",
        "\n",
        "if __name__ == \"__main__\":\n",
        "    main()\n"
      ],
      "metadata": {
        "colab": {
          "base_uri": "https://localhost:8080/"
        },
        "id": "P8xoSrsbwVDC",
        "outputId": "c7d5d593-ba7c-4416-847a-d321f8aa70d4"
      },
      "execution_count": 9,
      "outputs": [
        {
          "output_type": "stream",
          "name": "stdout",
          "text": [
            "02_pop_up_shop\n",
            "How many (apple) do you want?: 4\n",
            "How many (durian) do you want?: 6\n",
            "How many (jackfruit) do you want?: 3\n",
            "How many (kiwi) do you want?: 8\n",
            "How many (rambutan) do you want?: 0\n",
            "How many (mango) do you want?: 10\n",
            "\n",
            "Your total is $350.00\n"
          ]
        }
      ]
    },
    {
      "cell_type": "code",
      "source": [
        "print(\"03_powerful_passwords\")\n",
        "\n",
        "from hashlib import sha256\n",
        "\n",
        "def hash_password(password):\n",
        "\n",
        "    return sha256(password.encode()).hexdigest()\n",
        "\n",
        "def login(email, stored_logins, password_to_check):\n",
        "\n",
        "    return stored_logins.get(email) == hash_password(password_to_check)\n",
        "\n",
        "def main():\n",
        "\n",
        "    stored_logins = {\n",
        "        \"example@gmail.com\": \"5e884898da28047151d0e56f8dc6292773603d0d6aabbdd62a11ef721d1542d8\",\n",
        "        \"code_in_placer@cip.org\": \"973607a4ae7b4cf7d96a100b0fb07e8519cc4f70441d41214a9f811577bb06cc\",\n",
        "        \"student@stanford.edu\": \"882c6df720fd99f5eebb1581a1cf975625cea8a160283011c0b9512bb56c95fb\"\n",
        "    }\n",
        "\n",
        "\n",
        "    print(login(\"example@gmail.com\", stored_logins, \"word\"))\n",
        "    print(login(\"example@gmail.com\", stored_logins, \"password\"))\n",
        "\n",
        "    print(login(\"code_in_placer@cip.org\", stored_logins, \"Karel\"))\n",
        "    print(login(\"code_in_placer@cip.org\", stored_logins, \"karel\"))\n",
        "\n",
        "    print(login(\"student@stanford.edu\", stored_logins, \"password\"))\n",
        "    print(login(\"student@stanford.edu\", stored_logins, \"123!456?789\"))\n",
        "\n",
        "if __name__ == '__main__':\n",
        "    main()\n"
      ],
      "metadata": {
        "colab": {
          "base_uri": "https://localhost:8080/"
        },
        "id": "gHsVyLod3H3K",
        "outputId": "8d7610da-e0d2-4b43-bb73-01eddaf95a71"
      },
      "execution_count": 10,
      "outputs": [
        {
          "output_type": "stream",
          "name": "stdout",
          "text": [
            "03_powerful_passwords\n",
            "False\n",
            "True\n",
            "False\n",
            "True\n",
            "False\n",
            "True\n"
          ]
        }
      ]
    }
  ]
}