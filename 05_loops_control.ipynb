{
  "nbformat": 4,
  "nbformat_minor": 0,
  "metadata": {
    "colab": {
      "provenance": [],
      "authorship_tag": "ABX9TyPS9INxTk6sINY2MLDKljeV",
      "include_colab_link": true
    },
    "kernelspec": {
      "name": "python3",
      "display_name": "Python 3"
    },
    "language_info": {
      "name": "python"
    }
  },
  "cells": [
    {
      "cell_type": "markdown",
      "metadata": {
        "id": "view-in-github",
        "colab_type": "text"
      },
      "source": [
        "<a href=\"https://colab.research.google.com/github/coading-git-hub/GrowthMindChallange/blob/master/05_loops_control.ipynb\" target=\"_parent\"><img src=\"https://colab.research.google.com/assets/colab-badge.svg\" alt=\"Open In Colab\"/></a>"
      ]
    },
    {
      "cell_type": "code",
      "execution_count": null,
      "metadata": {
        "colab": {
          "base_uri": "https://localhost:8080/"
        },
        "id": "FZKGvQ4a6TOo",
        "outputId": "6f8e0df8-7789-4369-9042-501385a8c950"
      },
      "outputs": [
        {
          "output_type": "stream",
          "name": "stdout",
          "text": [
            "00_guess_my_number\n",
            "I am thinking of a number between 0 and 99...\n",
            "Enter a guess: 45\n",
            "Your guess (45) is too low\n",
            "Enter a guess: 76\n",
            "Your guess (76) is too high\n",
            "Enter a guess: 50\n",
            "Your guess (50) is too high\n",
            "Enter a guess: 48\n",
            "🎉 Congrats! The number was: 48\n"
          ]
        }
      ],
      "source": [
        "print(\"00_guess_my_number\")\n",
        "\n",
        "import random\n",
        "\n",
        "def guess_my_number():\n",
        "    secret_number = random.randint(0, 99)\n",
        "    print(\"I am thinking of a number between 0 and 99...\")\n",
        "\n",
        "    while True:\n",
        "        try:\n",
        "            guess = int(input(\"Enter a guess: \"))\n",
        "\n",
        "            if guess < secret_number:\n",
        "                print(f\"Your guess ({guess}) is too low\")\n",
        "            elif guess > secret_number:\n",
        "                print(f\"Your guess ({guess}) is too high\")\n",
        "            else:\n",
        "                print(f\"🎉 Congrats! The number was: {secret_number}\")\n",
        "                break\n",
        "\n",
        "        except ValueError:\n",
        "            print(\"⚠️ Invalid input! Please enter a number.\")\n",
        "\n",
        "if __name__ == \"__main__\":\n",
        "    guess_my_number()\n"
      ]
    },
    {
      "cell_type": "code",
      "source": [
        "print(\"01_fibonacci\")\n",
        "\n",
        "MAX_TERM_VALUE: int = 10000\n",
        "\n",
        "def fibonacci_sequence():\n",
        "\n",
        "    curr_term, next_term = 0, 1\n",
        "    sequence = []\n",
        "\n",
        "    while curr_term <= MAX_TERM_VALUE:\n",
        "        sequence.append(curr_term)\n",
        "        curr_term, next_term = next_term, curr_term + next_term\n",
        "\n",
        "    return sequence\n",
        "\n",
        "def main():\n",
        "    fib_sequence = fibonacci_sequence()\n",
        "    print(\"Fibonacci Sequence up to\", MAX_TERM_VALUE, \":\\n\")\n",
        "\n",
        "    for i, term in enumerate(fib_sequence):\n",
        "        print(f\"Fib({i}) = {term}\")\n",
        "\n",
        "\n",
        "if __name__ == '__main__':\n",
        "    main()\n"
      ],
      "metadata": {
        "colab": {
          "base_uri": "https://localhost:8080/"
        },
        "id": "DX296kas_Fxh",
        "outputId": "56b6025c-01c5-44b6-894c-9c6f867a5b18"
      },
      "execution_count": null,
      "outputs": [
        {
          "output_type": "stream",
          "name": "stdout",
          "text": [
            "01_fibonacci\n",
            "Fibonacci Sequence up to 10000 :\n",
            "\n",
            "Fib(0) = 0\n",
            "Fib(1) = 1\n",
            "Fib(2) = 1\n",
            "Fib(3) = 2\n",
            "Fib(4) = 3\n",
            "Fib(5) = 5\n",
            "Fib(6) = 8\n",
            "Fib(7) = 13\n",
            "Fib(8) = 21\n",
            "Fib(9) = 34\n",
            "Fib(10) = 55\n",
            "Fib(11) = 89\n",
            "Fib(12) = 144\n",
            "Fib(13) = 233\n",
            "Fib(14) = 377\n",
            "Fib(15) = 610\n",
            "Fib(16) = 987\n",
            "Fib(17) = 1597\n",
            "Fib(18) = 2584\n",
            "Fib(19) = 4181\n",
            "Fib(20) = 6765\n"
          ]
        }
      ]
    },
    {
      "cell_type": "code",
      "source": [
        "print(\"02_print_events\")\n",
        "\n",
        "def main():\n",
        "  for i in range(20):\n",
        "    print(i * 2)\n",
        "\n",
        "if __name__ == \"__main__\":\n",
        "  main()"
      ],
      "metadata": {
        "colab": {
          "base_uri": "https://localhost:8080/"
        },
        "id": "XUYPWJ7vAAr9",
        "outputId": "406c962e-3c02-4135-d92a-286236cf52b6"
      },
      "execution_count": null,
      "outputs": [
        {
          "output_type": "stream",
          "name": "stdout",
          "text": [
            "02_print_events\n",
            "0\n",
            "2\n",
            "4\n",
            "6\n",
            "8\n",
            "10\n",
            "12\n",
            "14\n",
            "16\n",
            "18\n",
            "20\n",
            "22\n",
            "24\n",
            "26\n",
            "28\n",
            "30\n",
            "32\n",
            "34\n",
            "36\n",
            "38\n"
          ]
        }
      ]
    },
    {
      "cell_type": "code",
      "source": [
        "import random\n",
        "\n",
        "AFFIRMATION = \"I am capable of doing anything I put my mind to.\"\n",
        "ENCOURAGEMENTS = [\n",
        "    \"Don't give up! Try again! 💪\",\n",
        "    \"You're almost there! Keep going! 🚀\",\n",
        "    \"You got this! Just a little more! 😊\",\n",
        "    \"Believe in yourself! Try again! ✨\",\n",
        "]\n",
        "\n",
        "def main():\n",
        "    print(f\"Please type the following affirmation exactly as shown: \\n{AFFIRMATION}\\n\")\n",
        "\n",
        "    while True:\n",
        "        user_input = input()\n",
        "\n",
        "\n",
        "        if user_input.strip().lower() == AFFIRMATION.lower():\n",
        "            print(\"That's right! 😊 You are truly capable! 🎉\")\n",
        "            break\n",
        "        else:\n",
        "            print(\"Hmmm, that was not the affirmation.\")\n",
        "            print(random.choice(ENCOURAGEMENTS))\n",
        "            print(\"\\nPlease try again!\\n\")\n",
        "\n",
        "if __name__ == '__main__':\n",
        "    main()\n"
      ],
      "metadata": {
        "colab": {
          "base_uri": "https://localhost:8080/"
        },
        "id": "5t2Faip-BO1b",
        "outputId": "2a3d53b4-9cb8-497e-f7a4-13f2b3befefd"
      },
      "execution_count": null,
      "outputs": [
        {
          "output_type": "stream",
          "name": "stdout",
          "text": [
            "Please type the following affirmation exactly as shown: \n",
            "I am capable of doing anything I put my mind to.\n",
            "\n",
            "I am capable of doing anything I put my mind to.\n",
            "That's right! 😊 You are truly capable! 🎉\n"
          ]
        }
      ]
    },
    {
      "cell_type": "code",
      "source": [
        "print(\"04_liftoff\")\n",
        "\n",
        "def main():\n",
        "  for i in range(10,0,-1):\n",
        "    print(i , end=\" \")\n",
        "  print(\"liftoff!\")\n",
        "\n",
        "if __name__ == \"__main__\":\n",
        "  main()"
      ],
      "metadata": {
        "colab": {
          "base_uri": "https://localhost:8080/"
        },
        "id": "JMwCVD1vEMVL",
        "outputId": "5a17f8cd-888c-46b7-8a5e-3f1569392a6a"
      },
      "execution_count": null,
      "outputs": [
        {
          "output_type": "stream",
          "name": "stdout",
          "text": [
            "04_liftoff\n",
            "10 9 8 7 6 5 4 3 2 1 liftoff!\n"
          ]
        }
      ]
    },
    {
      "cell_type": "code",
      "source": [
        "print(\"05_double_it\")\n",
        "\n",
        "def main():\n",
        "  curr_value : int = int(input(\"Enter a number...  \"))\n",
        "\n",
        "  while curr_value < 100 :\n",
        "    curr_value *=  2\n",
        "    print(curr_value, end=\" \")\n",
        "\n",
        "if __name__ == \"__main__\":\n",
        "  main()"
      ],
      "metadata": {
        "colab": {
          "base_uri": "https://localhost:8080/"
        },
        "id": "rB4XpQUGFw7x",
        "outputId": "83129d7f-6093-4a5e-d0fa-d598fba3786f"
      },
      "execution_count": null,
      "outputs": [
        {
          "output_type": "stream",
          "name": "stdout",
          "text": [
            "05_double_it\n",
            "Enter a number...  3\n",
            "6 12 24 48 96 192 "
          ]
        }
      ]
    }
  ]
}