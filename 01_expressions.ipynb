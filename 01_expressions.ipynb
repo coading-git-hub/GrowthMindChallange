{
  "nbformat": 4,
  "nbformat_minor": 0,
  "metadata": {
    "colab": {
      "provenance": [],
      "authorship_tag": "ABX9TyMlbcruQ4qzW+oF/4W5Ii41",
      "include_colab_link": true
    },
    "kernelspec": {
      "name": "python3",
      "display_name": "Python 3"
    },
    "language_info": {
      "name": "python"
    }
  },
  "cells": [
    {
      "cell_type": "markdown",
      "metadata": {
        "id": "view-in-github",
        "colab_type": "text"
      },
      "source": [
        "<a href=\"https://colab.research.google.com/github/coading-git-hub/GrowthMindChallange/blob/master/01_expressions.ipynb\" target=\"_parent\"><img src=\"https://colab.research.google.com/assets/colab-badge.svg\" alt=\"Open In Colab\"/></a>"
      ]
    },
    {
      "cell_type": "code",
      "execution_count": 2,
      "metadata": {
        "colab": {
          "base_uri": "https://localhost:8080/"
        },
        "id": "VV0fpo2FOnR3",
        "outputId": "42982688-dcc3-4f4a-94c6-1808950c0c15"
      },
      "outputs": [
        {
          "output_type": "stream",
          "name": "stdout",
          "text": [
            "01_dicesimulator\n",
            "die1 in main() start as: 10\n",
            "Total of two dies: 3\n",
            "Total of two dies: 7\n",
            "Total of two dies: 10\n",
            "die1 in main() is: 10\n"
          ]
        }
      ],
      "source": [
        "import random\n",
        "\n",
        "print(\"01_dicesimulator\")\n",
        "\n",
        "def roll_dice():\n",
        "  die1:int = random.randint(1,6)\n",
        "  die2:int = random.randint(1,6)\n",
        "  total: int = die1 + die2\n",
        "  print(f'Total of two dies: {total}')\n",
        "\n",
        "def main():\n",
        "    die1: int = 10\n",
        "    print(\"die1 in main() start as: \" + str(die1))\n",
        "    roll_dice()\n",
        "    roll_dice()\n",
        "    roll_dice()\n",
        "    print(\"die1 in main() is: \" + str(die1))\n",
        "\n",
        "if __name__ == \"__main__\":\n",
        "  main()\n"
      ]
    },
    {
      "cell_type": "code",
      "source": [
        "print(\"02_e=mc2.md\")\n",
        "\n",
        "def energy():\n",
        "  c:int =  299792458\n",
        "  m:int = float(input(\"Enter kilos of mass: \"))\n",
        "  print(\"e = m * C^2\")\n",
        "  print(\"Mass =  \"  + str(m) + \"kg\")\n",
        "  print(\"C = \" + str(c) + \"m/s\")\n",
        "  print(\"e = \" + str(m * c ** 2) + \" jules\")\n",
        "\n",
        "if __name__ == \"__main__\":\n",
        "    energy()"
      ],
      "metadata": {
        "colab": {
          "base_uri": "https://localhost:8080/"
        },
        "id": "omLJHxtJVAqX",
        "outputId": "5b76b35c-ecfb-4c23-d685-db454f5ada98"
      },
      "execution_count": 6,
      "outputs": [
        {
          "output_type": "stream",
          "name": "stdout",
          "text": [
            "02_e=mc2.md\n",
            "Enter kilos of mass: 120\n",
            "e = m * C^2\n",
            "Mass =  120.0kg\n",
            "C = 299792458m/s\n",
            "e = 1.0785062144841812e+19jules\n"
          ]
        }
      ]
    },
    {
      "cell_type": "code",
      "source": [
        "print(\"03_feet_to_inches\")\n",
        "\n",
        "inch: int =12\n",
        "\n",
        "def foot():\n",
        "  feet: int =int(input(\"Enter feet and i will convert into inches: \"))\n",
        "  print(f'There are {inch * feet} inches in  {feet} feet')\n",
        "\n",
        "if __name__ == \"__main__\":\n",
        "    foot()\n"
      ],
      "metadata": {
        "colab": {
          "base_uri": "https://localhost:8080/"
        },
        "id": "gLNdST-OX9TD",
        "outputId": "bb0768e9-1bf4-4f8f-fdce-35bbe14eadad"
      },
      "execution_count": 7,
      "outputs": [
        {
          "output_type": "stream",
          "name": "stdout",
          "text": [
            "03_feet_to_inches\n",
            "Enter feet and i will convert into inches: 21\n",
            "Ther are 252 inches in  21 feet\n"
          ]
        }
      ]
    },
    {
      "cell_type": "code",
      "source": [
        "import math\n",
        "print(\"04_pythagorean_theorem\")\n",
        "\n",
        "def triangle():\n",
        "  ab:float = float(input(\"Enter the length of the side ab \"))\n",
        "  ac:float = float(input(\"Enter the length of the side ac \"))\n",
        "  bc:float = math.sqrt(ab**2 + ac**2)\n",
        "  print(f'The length of bc (the hypothenuse is : {bc})')\n",
        "\n",
        "if __name__ == '__main__':\n",
        "  triangle()"
      ],
      "metadata": {
        "colab": {
          "base_uri": "https://localhost:8080/"
        },
        "id": "ncsZWbSOZZKR",
        "outputId": "0e071441-c81d-4b60-e145-2d6e5abc2afb"
      },
      "execution_count": 18,
      "outputs": [
        {
          "output_type": "stream",
          "name": "stdout",
          "text": [
            "04_pythagorean_theorem\n",
            "Enter the length of the side ab 32\n",
            "Enter the length of the side ac 23\n",
            "The length of bc (the hypothenuse is : 39.408120990476064)\n"
          ]
        }
      ]
    },
    {
      "cell_type": "code",
      "source": [
        "print(\"05_remainder_division\")\n",
        "\n",
        "def remainder():\n",
        "  num1:int = int(input(\"Enter an integer tobe divided: \"))\n",
        "  num2:int =int(input(\"Enter an integer to divide by: \"))\n",
        "  quotient:int = num1 // num2\n",
        "  remainder:int = num1 % num2\n",
        "  print(f'the result of this division is  {quotient} with a reminder of {remainder}')\n",
        "\n",
        "if __name__ == \"__main__\":\n",
        "  remainder()"
      ],
      "metadata": {
        "colab": {
          "base_uri": "https://localhost:8080/"
        },
        "id": "AR18Eynmb5Mj",
        "outputId": "a0f2396a-8caf-464d-a995-8d356e996178"
      },
      "execution_count": 9,
      "outputs": [
        {
          "output_type": "stream",
          "name": "stdout",
          "text": [
            "05_remainder_division\n",
            "Enter an integer tobe divided: 35\n",
            "Enter an integer to divide by: 4\n",
            "the result of this division is  8 with a reminder of 3\n"
          ]
        }
      ]
    },
    {
      "cell_type": "code",
      "source": [
        "import random\n",
        "\n",
        "print(\"06_rolldice\")\n",
        "def dice():\n",
        " die1:int = random.randint(1,6)\n",
        " die2:int =random.randint(1,6)\n",
        " total:int = int(die1 + die2)\n",
        " print(\"First die: \" + str(die1))\n",
        " print(\"Second die: \" +str(die2) )\n",
        " print(f'Total of two dice : {total}')\n",
        "\n",
        "if __name__ == \"__main__\":\n",
        "  dice()"
      ],
      "metadata": {
        "colab": {
          "base_uri": "https://localhost:8080/"
        },
        "id": "yFy7djUcfDZO",
        "outputId": "88daa9cf-9fee-4e73-e2ea-b351d1840d9d"
      },
      "execution_count": 17,
      "outputs": [
        {
          "output_type": "stream",
          "name": "stdout",
          "text": [
            "06_rolldice\n",
            "First die: 2\n",
            "Second die: 3\n",
            "Total of two dice : 5\n"
          ]
        }
      ]
    },
    {
      "cell_type": "code",
      "source": [
        "print(\"06_seconds_in_year\")\n",
        "\n",
        "Days_per_year:int = 365\n",
        "Hours_of_day:int = 24\n",
        "Mintutes_in_hour:int = 60\n",
        "Secondes_in_minute:int = 60\n",
        "\n",
        "def seconds():\n",
        "  print(f'There are {Days_per_year*Mintutes_in_hour*Secondes_in_minute} seconds in a year!')\n",
        "\n",
        "if __name__ == \"__main__\":\n",
        "  seconds()\n"
      ],
      "metadata": {
        "colab": {
          "base_uri": "https://localhost:8080/"
        },
        "id": "LXTw9oG5hCc1",
        "outputId": "252ea27c-8cb0-4ff0-aa38-1f1b645559a5"
      },
      "execution_count": 15,
      "outputs": [
        {
          "output_type": "stream",
          "name": "stdout",
          "text": [
            "06_seconds_in_year\n",
            "There are 1314000 seconds in a year!\n"
          ]
        }
      ]
    },
    {
      "cell_type": "code",
      "source": [
        "print(\"07_tiny_mad_lib\")\n",
        "\n",
        "def mad_lib():\n",
        "  adjective:str = str(input(\"write an adjective. \" ))\n",
        "  noun:str = str(input(\"Write a noun. \"))\n",
        "  verb:str = str(input(\"Write a verb. \"))\n",
        "  print(f'Do you {verb} your {adjective} {noun}? That\\'s hilarious!')\n",
        "\n",
        "if __name__ == \"__main__\":\n",
        "        mad_lib()\n"
      ],
      "metadata": {
        "colab": {
          "base_uri": "https://localhost:8080/"
        },
        "id": "4Xe9vLTcjTRE",
        "outputId": "a1be9832-bf84-4c64-b2a9-e36d3f67eb8e"
      },
      "execution_count": 16,
      "outputs": [
        {
          "output_type": "stream",
          "name": "stdout",
          "text": [
            "07_tiny_mad_lib\n",
            "write an adjective. bed\n",
            "Write a noun. fan\n",
            "Write a verb. sleep\n",
            "Do you sleep your bed fan? That's hilarious!\n"
          ]
        }
      ]
    }
  ]
}