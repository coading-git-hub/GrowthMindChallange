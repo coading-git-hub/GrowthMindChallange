{
  "nbformat": 4,
  "nbformat_minor": 0,
  "metadata": {
    "colab": {
      "provenance": [],
      "authorship_tag": "ABX9TyPE9myXQfg9eo4a6B16Gmss",
      "include_colab_link": true
    },
    "kernelspec": {
      "name": "python3",
      "display_name": "Python 3"
    },
    "language_info": {
      "name": "python"
    }
  },
  "cells": [
    {
      "cell_type": "markdown",
      "metadata": {
        "id": "view-in-github",
        "colab_type": "text"
      },
      "source": [
        "<a href=\"https://colab.research.google.com/github/coading-git-hub/GrowthMindChallange/blob/master/03_if_statements.ipynb\" target=\"_parent\"><img src=\"https://colab.research.google.com/assets/colab-badge.svg\" alt=\"Open In Colab\"/></a>"
      ]
    },
    {
      "cell_type": "code",
      "execution_count": 6,
      "metadata": {
        "colab": {
          "base_uri": "https://localhost:8080/"
        },
        "id": "_5vG6wJuh0yS",
        "outputId": "c4fb3b01-cbbf-4399-9cbb-0e946a2a86ac"
      },
      "outputs": [
        {
          "output_type": "stream",
          "name": "stdout",
          "text": [
            "01_print_events\n",
            "0\n",
            "2\n",
            "4\n",
            "6\n",
            "8\n",
            "10\n",
            "12\n",
            "14\n",
            "16\n",
            "18\n",
            "20\n",
            "22\n",
            "24\n",
            "26\n",
            "28\n",
            "30\n",
            "32\n",
            "34\n",
            "36\n",
            "38\n",
            "40\n",
            "42\n",
            "44\n",
            "46\n",
            "48\n",
            "50\n",
            "52\n",
            "54\n",
            "56\n",
            "58\n"
          ]
        }
      ],
      "source": [
        "print(\"01_print_events\")\n",
        "\n",
        "def even_numbers():\n",
        "  for i in range(30):\n",
        "    print(i * 2)\n",
        "\n",
        "if __name__ == \"__main__\":\n",
        "  even_numbers()\n"
      ]
    },
    {
      "cell_type": "code",
      "source": [
        "print(\"02_international_voting_age\")\n",
        "\n",
        "Peturksbouipo : int = 16\n",
        "Stanlau : int = 25\n",
        "Mayengua : int = 48\n",
        "age:int = int(input(\"How old are you? \"))\n",
        "\n",
        "def main():\n",
        "\n",
        "  if age >= Peturksbouipo:\n",
        "    print(f\"You are age is {age} you are  eligible to vote in Peturksbouipo! \")\n",
        "  else:\n",
        "    print(\"you are not  eligible to vote in Peturksbouipo!\")\n",
        "\n",
        "if age >=  Stanlau:\n",
        "     print(f\"You are age is {age} you are  eligible to vote in Stanlau! \")\n",
        "else:\n",
        "    print(\"you are not  eligible to vote in Stanlau!\")\n",
        "\n",
        "if age >=  Mayengua:\n",
        "     print(f\"You are age is {age} you are eligible to vote in Mayengua! \")\n",
        "else:\n",
        "    print(\"you are not  eligible to vote in Mayengua!\")\n",
        "\n",
        "if __name__ == \"__main__\":\n",
        "  main()"
      ],
      "metadata": {
        "colab": {
          "base_uri": "https://localhost:8080/"
        },
        "id": "pDdTsSBKsUVm",
        "outputId": "3b9413eb-3773-4b77-d0b3-d17c77f3ba85"
      },
      "execution_count": 11,
      "outputs": [
        {
          "output_type": "stream",
          "name": "stdout",
          "text": [
            "02_international_voting_age\n",
            "How old are you? 40\n",
            "You are age is 40 you are  eligible to vote in Stanlau! \n",
            "you are not  eligible to vote in Mayengua!\n",
            "You are age is 40 you are  eligible to vote in Peturksbouipo! \n"
          ]
        }
      ]
    },
    {
      "cell_type": "code",
      "source": [
        "print(\"03_leap_year\")\n",
        "\n",
        "def leap_year():\n",
        "\n",
        " year:int = int(input(\"Enter a year!\"))\n",
        "\n",
        " if year % 4 == 0:\n",
        "  if year % 100 == 0:\n",
        "    if year % 400 == 0:\n",
        "     print(f'The {year} is a leap year!')\n",
        "    else:\n",
        "     print(f'The {year} is  not a leap year!')\n",
        "  else:\n",
        "    print(f'The {year} is  not a leap year!')\n",
        " else:\n",
        "  print(f'The {year} is  not a leap year!')\n",
        "\n",
        "if __name__ == \"__main__\":\n",
        "  leap_year()\n"
      ],
      "metadata": {
        "colab": {
          "base_uri": "https://localhost:8080/"
        },
        "id": "T6XXXIsfxNiC",
        "outputId": "456602cf-1c18-446a-80eb-c1d822190918"
      },
      "execution_count": 16,
      "outputs": [
        {
          "output_type": "stream",
          "name": "stdout",
          "text": [
            "03_leap_year\n",
            "Enter a year!2025\n",
            "The 2025 is  not a leap year!\n"
          ]
        }
      ]
    },
    {
      "cell_type": "code",
      "source": [
        "print(\"04_tall_enough_to_ride\")\n",
        "\n",
        "min_height:int = 50\n",
        "def main():\n",
        "  user:int = int(input(\"How tall are you? \"))\n",
        "  if user >= min_height:\n",
        "    print(\"You are tall enough to ride\")\n",
        "  else:\n",
        "    print(\"You are not tall to ride. May be next year. \")\n",
        "\n",
        "if __name__ == \"__main__\":\n",
        "  main()\n",
        "\n"
      ],
      "metadata": {
        "colab": {
          "base_uri": "https://localhost:8080/"
        },
        "id": "8GDBG95a0k8a",
        "outputId": "321b6fe7-a5c1-45e5-fbc5-3bb6fba7e829"
      },
      "execution_count": 17,
      "outputs": [
        {
          "output_type": "stream",
          "name": "stdout",
          "text": [
            "04_tall_enough_to_ride\n",
            "How tall are you? 45\n",
            "You are not tall to ride. May be next year. \n"
          ]
        }
      ]
    },
    {
      "cell_type": "code",
      "source": [
        "print(\"05_random_numbers\")\n",
        "\n",
        "import random\n",
        "\n",
        "def random_number():\n",
        "  for i in range(10):\n",
        "     num:list[int] = random.randint(1,100)\n",
        "     print(num)\n",
        "\n",
        "if __name__ == \"__main__\":\n",
        "  random_number()\n",
        "\n"
      ],
      "metadata": {
        "colab": {
          "base_uri": "https://localhost:8080/"
        },
        "id": "3k3PWV3_2faU",
        "outputId": "ab9e8635-46a6-4065-fbf3-1695dfc86efe"
      },
      "execution_count": 21,
      "outputs": [
        {
          "output_type": "stream",
          "name": "stdout",
          "text": [
            "05_random_numbers\n",
            "41\n",
            "94\n",
            "91\n",
            "9\n",
            "14\n",
            "79\n",
            "51\n",
            "18\n",
            "74\n",
            "33\n"
          ]
        }
      ]
    }
  ]
}